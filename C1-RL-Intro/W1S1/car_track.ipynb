{
 "cells": [
  {
   "cell_type": "code",
   "execution_count": 158,
   "metadata": {},
   "outputs": [],
   "source": [
    "import numpy as np\n",
    "import pandas as pd\n",
    "import matplotlib.pyplot as plt\n",
    "from sklearn.neighbors import KDTree"
   ]
  },
  {
   "cell_type": "code",
   "execution_count": 252,
   "metadata": {},
   "outputs": [],
   "source": [
    "class Car(object):\n",
    "    def __init__(self):\n",
    "        self.track = pd.read_csv('https://raw.githubusercontent.com/KnowchowHQ/rl-in-action/master/C1-RL-Intro/W1S1/track.txt',sep=' ')\n",
    "        self.kdtree = KDTree(self.track)\n",
    "        self.__reset__()\n",
    "\n",
    "    def __reset__(self):\n",
    "        self.max_steering_deg = 25\n",
    "        self.min_steering_deg = -25\n",
    "        self.min_speed = 0 #meter per second\n",
    "        self.max_speed = 50 #meter per second\n",
    "        self.speed = 0 #meter per second\n",
    "        self.steering_deg = 0 #degree\n",
    "        self.heading_deg = 0 #degrees\n",
    "        self.x = self.track.x[0]\n",
    "        self.y = self.track.y[0]\n",
    "        self.length = 1.0 # length of vehicle in meter\n",
    "        \n",
    "    def render(self):\n",
    "        plt.figure(figsize=(12,8))\n",
    "        plt.scatter(self.track.x, self.track.y)\n",
    "        plt.plot(self.track.x[0], self.track.y[0], 'go', markersize=12)\n",
    "        plt.plot(self.x, self.y, 'r.', markersize=12)\n",
    "        plt.show()\n",
    "        \n",
    "    \n",
    "    def _to_rad_(deg):\n",
    "        return deg * np.pi / 180\n",
    "    \n",
    "    def _to_deg_(rad):\n",
    "        return rad*180/np.pi\n",
    "    \n",
    "    def __check_off_track__(self):\n",
    "        dist, ind = self.kdtree.query([[self.x, self.y]], 1)\n",
    "        car = (round(self.x,2), round(self.y,2))\n",
    "        closest_x = float(self.track.x[ind[0]])\n",
    "        closest_y = float(self.track.y[ind[0]])\n",
    "        closest = (round(closest_x,2),round(closest_y,2))\n",
    "        assert dist <= 10,\\\n",
    "        f\"Game Over!! Your car veered off the track! Car:{car} Closest Point:{closest}\"\n",
    "    \n",
    "    def move(self, time_step):\n",
    "        heading = Car._to_rad_(self.heading_deg)\n",
    "        steering = Car._to_rad_(self.steering_deg)\n",
    "        \n",
    "     \n",
    "        self.x = self.x + self.speed*np.cos(heading)*time_step\n",
    "        self.y = self.y + self.speed*np.sin(heading)*time_step\n",
    "     \n",
    "        new_heading = (heading + self.speed / self.length * steering * time_step) % (np.pi * 2)\n",
    "        self.heading_deg = Car._to_deg_(new_heading)\n",
    "        \n",
    "        self.__check_off_track__()\n",
    "    \n",
    "        \n",
    "    \n",
    "    def set_steering(self, steer_deg):\n",
    "        assert self.min_steering_deg <= steer_deg <= self.max_steering_deg,\\\n",
    "        f'Steering angle must be in degree and in the range {self.min_steering_deg},{self.max_steering_deg}'\n",
    "        \n",
    "        self.steering_deg = steer_deg\n",
    "        \n",
    "        \n",
    "    def set_speed(self, speed_meter_sec):\n",
    "        assert self.min_speed <= speed_meter_sec <= self.max_speed,\\\n",
    "        (f'Speed must be in meters per second and in the range {self.min_speed},{self.max_speed}')\n",
    "        \n",
    "        self.speed = speed_meter_sec\n",
    "        \n",
    "        \n",
    "    \n",
    "    def find_nearest_track_points(self,n=5):\n",
    "        dist, inds = self.kdtree.query([[self.x, self.y]], n)\n",
    "        inds = list(*inds)\n",
    "        return self.track.loc[inds]\n",
    "        "
   ]
  },
  {
   "cell_type": "code",
   "execution_count": 253,
   "metadata": {},
   "outputs": [],
   "source": [
    "car = Car()"
   ]
  },
  {
   "cell_type": "code",
   "execution_count": 254,
   "metadata": {},
   "outputs": [
    {
     "data": {
      "image/png": "[encoded data removed]",
      "text/plain": [
       "<Figure size 864x576 with 1 Axes>"
      ]
     },
     "metadata": {
      "needs_background": "light"
     },
     "output_type": "display_data"
    }
   ],
   "source": [
    "car.render()"
   ]
  },
  {
   "cell_type": "code",
   "execution_count": 255,
   "metadata": {},
   "outputs": [
    {
     "name": "stdout",
     "output_type": "stream",
     "text": [
      "57 steps.\n",
      "Game Over!! Your car veered off the track! Car:(1024.91, 1140.34) Closest Point:(1020.88, 1149.56)\n"
     ]
    },
    {
     "data": {
      "image/png": "[encoded data removed]",
      "text/plain": [
       "<Figure size 864x576 with 1 Axes>"
      ]
     },
     "metadata": {
      "needs_background": "light"
     },
     "output_type": "display_data"
    }
   ],
   "source": [
    "car.__reset__()\n",
    "car.set_speed(20)\n",
    "car.set_steering(0.1)\n",
    "\n",
    "try:\n",
    "    for i in range(150):\n",
    "        car.move(.1)\n",
    "except Exception as err:\n",
    "    print(f'{i} steps.')\n",
    "    print(err)\n",
    "finally:\n",
    "    car.render()"
   ]
  },
  {
   "cell_type": "code",
   "execution_count": null,
   "metadata": {},
   "outputs": [],
   "source": []
  }
 ],
 "metadata": {
  "kernelspec": {
   "display_name": "Python 3",
   "language": "python",
   "name": "python3"
  },
  "language_info": {
   "codemirror_mode": {
    "name": "ipython",
    "version": 3
   },
   "file_extension": ".py",
   "mimetype": "text/x-python",
   "name": "python",
   "nbconvert_exporter": "python",
   "pygments_lexer": "ipython3",
   "version": "3.6.8"
  }
 },
 "nbformat": 4,
 "nbformat_minor": 2
}
